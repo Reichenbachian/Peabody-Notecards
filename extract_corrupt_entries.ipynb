{
 "cells": [
  {
   "cell_type": "code",
   "execution_count": 1,
   "metadata": {
    "collapsed": true
   },
   "outputs": [],
   "source": [
    "import pandas as pd\n",
    "import numpy as np"
   ]
  },
  {
   "cell_type": "code",
   "execution_count": 43,
   "metadata": {
    "collapsed": false
   },
   "outputs": [
    {
     "data": {
      "text/html": [
       "<div>\n",
       "<table border=\"1\" class=\"dataframe\">\n",
       "  <thead>\n",
       "    <tr style=\"text-align: right;\">\n",
       "      <th></th>\n",
       "      <th>Cat Number</th>\n",
       "      <th>Site Number</th>\n",
       "      <th>Locality</th>\n",
       "      <th>Site</th>\n",
       "      <th>Name</th>\n",
       "      <th>Situation</th>\n",
       "    </tr>\n",
       "  </thead>\n",
       "  <tbody>\n",
       "    <tr>\n",
       "      <th>0</th>\n",
       "      <td>Cat. No. 1</td>\n",
       "      <td>M50/1</td>\n",
       "      <td>Locality Squibnocket Head, southwest side 0\\nM...</td>\n",
       "      <td>Site Squibnocket Cliff .</td>\n",
       "      <td>Name Butt of arrowhead.</td>\n",
       "      <td>Situation on sand under shell just south of st...</td>\n",
       "    </tr>\n",
       "    <tr>\n",
       "      <th>1</th>\n",
       "      <td>Cat. No. 2</td>\n",
       "      <td>M50/1</td>\n",
       "      <td>Lmnmw Squibnocket Head, southwest side 0\\nMart...</td>\n",
       "      <td>Site Squibnocket Cliff.</td>\n",
       "      <td>Name Butt of quartz knife.</td>\n",
       "      <td>Situation Black sandy loam near stake 2.</td>\n",
       "    </tr>\n",
       "    <tr>\n",
       "      <th>2</th>\n",
       "      <td>| Cat. No. 3</td>\n",
       "      <td>M50/1</td>\n",
       "      <td>Locality Squibnocket Head, southwest side of\\n...</td>\n",
       "      <td>Site Squibnocket Cliff .</td>\n",
       "      <td>Name Crude quartz point.</td>\n",
       "      <td>Situation Black sandy loam, 1M. east of stake A.</td>\n",
       "    </tr>\n",
       "    <tr>\n",
       "      <th>3</th>\n",
       "      <td>Cat. No. 4</td>\n",
       "      <td>M50/1</td>\n",
       "      <td>Locality Squibnocket Head, southwest side 0\\nM...</td>\n",
       "      <td>Site Squibnocket Cliff.</td>\n",
       "      <td>Name Urude quartzite Spear.</td>\n",
       "      <td>Situation Top of first shell layer.</td>\n",
       "    </tr>\n",
       "    <tr>\n",
       "      <th>4</th>\n",
       "      <td>I Cat. No. 5</td>\n",
       "      <td>M50/1</td>\n",
       "      <td>Uxﬂky Squibnocket Head, southwest side of\\nMar...</td>\n",
       "      <td>Site Squibnocket Cliff .</td>\n",
       "      <td>Name Crude chopper.</td>\n",
       "      <td>Situation Underneath lowest shell layer.</td>\n",
       "    </tr>\n",
       "  </tbody>\n",
       "</table>\n",
       "</div>"
      ],
      "text/plain": [
       "     Cat Number Site Number  \\\n",
       "0    Cat. No. 1       M50/1   \n",
       "1    Cat. No. 2       M50/1   \n",
       "2  | Cat. No. 3       M50/1   \n",
       "3    Cat. No. 4       M50/1   \n",
       "4  I Cat. No. 5       M50/1   \n",
       "\n",
       "                                            Locality  \\\n",
       "0  Locality Squibnocket Head, southwest side 0\\nM...   \n",
       "1  Lmnmw Squibnocket Head, southwest side 0\\nMart...   \n",
       "2  Locality Squibnocket Head, southwest side of\\n...   \n",
       "3  Locality Squibnocket Head, southwest side 0\\nM...   \n",
       "4  Uxﬂky Squibnocket Head, southwest side of\\nMar...   \n",
       "\n",
       "                       Site                         Name  \\\n",
       "0  Site Squibnocket Cliff .      Name Butt of arrowhead.   \n",
       "1   Site Squibnocket Cliff.   Name Butt of quartz knife.   \n",
       "2  Site Squibnocket Cliff .     Name Crude quartz point.   \n",
       "3   Site Squibnocket Cliff.  Name Urude quartzite Spear.   \n",
       "4  Site Squibnocket Cliff .          Name Crude chopper.   \n",
       "\n",
       "                                           Situation  \n",
       "0  Situation on sand under shell just south of st...  \n",
       "1           Situation Black sandy loam near stake 2.  \n",
       "2   Situation Black sandy loam, 1M. east of stake A.  \n",
       "3                Situation Top of first shell layer.  \n",
       "4           Situation Underneath lowest shell layer.  "
      ]
     },
     "execution_count": 43,
     "metadata": {},
     "output_type": "execute_result"
    }
   ],
   "source": [
    "df = pd.read_csv(\"test (3).csv\", index_col=0)\n",
    "df.head()"
   ]
  },
  {
   "cell_type": "code",
   "execution_count": 26,
   "metadata": {
    "collapsed": false
   },
   "outputs": [
    {
     "name": "stdout",
     "output_type": "stream",
     "text": [
      "ﬂ‘ﬁ“”°’¢—»£§é«€¥\n"
     ]
    }
   ],
   "source": [
    "import re\n",
    "import string\n",
    "\n",
    "\n",
    "# Compile a list of garbage characters\n",
    "garbage_chars = []\n",
    "\n",
    "concat_all_entries = lambda name: ''.join([str(x) for x in df[name].as_matrix().tolist()])\n",
    "entries_as_list = lambda name: [str(x) for x in df[name].as_matrix().tolist()]\n",
    "\n",
    "concat = \"\".join([concat_all_entries('Locality'), \n",
    "                  concat_all_entries('Site'), \n",
    "                  concat_all_entries('Name'), \n",
    "                  concat_all_entries('Situation')])\n",
    "for c in concat:\n",
    "    if c not in garbage_chars and c not in string.punctuation + string.ascii_letters + string.whitespace + string.digits:\n",
    "        garbage_chars.append(c)\n",
    "    \n",
    "print(''.join(garbage_chars))"
   ]
  },
  {
   "cell_type": "code",
   "execution_count": 33,
   "metadata": {
    "collapsed": false
   },
   "outputs": [],
   "source": [
    "# Find all entries in locality with garbage characters\n",
    "garbage_entries = []\n",
    "\n",
    "for colname in ['Locality', 'Site', 'Name', 'Situation']:\n",
    "    for i, entry in enumerate(entries_as_list(colname)):\n",
    "        if any(c in entry for c in garbage_chars):\n",
    "            garbage_entries.append(i)\n",
    "            \n",
    "garbage_entries = set(garbage_entries)"
   ]
  },
  {
   "cell_type": "code",
   "execution_count": 62,
   "metadata": {
    "collapsed": false
   },
   "outputs": [
    {
     "name": "stderr",
     "output_type": "stream",
     "text": [
      "C:\\Users\\Samuel\\Anaconda3\\lib\\site-packages\\pandas\\indexes\\range.py:409: RuntimeWarning: unorderable types: int() < str(), sort order is undefined for incomparable objects\n",
      "  return self._int64index.union(other)\n"
     ]
    }
   ],
   "source": [
    "garbage_df = pd.DataFrame(df.columns)\n",
    "for i in garbage_entries:\n",
    "    garbage_df = pd.concat([garbage_df, df[i:i+1]])\n",
    "    df.drop(df.index[i])\n",
    "    "
   ]
  },
  {
   "cell_type": "code",
   "execution_count": 68,
   "metadata": {
    "collapsed": false
   },
   "outputs": [],
   "source": [
    "df = df.reset_index(drop=True)\n",
    "garbage_df = garbage_df.reset_index(drop=True)"
   ]
  },
  {
   "cell_type": "code",
   "execution_count": 71,
   "metadata": {
    "collapsed": false
   },
   "outputs": [],
   "source": [
    "df.to_csv(\"normal_entries.csv\")\n",
    "garbage_df.to_csv(\"corrupt_entries.csv\")"
   ]
  },
  {
   "cell_type": "code",
   "execution_count": null,
   "metadata": {
    "collapsed": true
   },
   "outputs": [],
   "source": []
  }
 ],
 "metadata": {
  "kernelspec": {
   "display_name": "Python [Root]",
   "language": "python",
   "name": "Python [Root]"
  },
  "language_info": {
   "codemirror_mode": {
    "name": "ipython",
    "version": 3
   },
   "file_extension": ".py",
   "mimetype": "text/x-python",
   "name": "python",
   "nbconvert_exporter": "python",
   "pygments_lexer": "ipython3",
   "version": "3.5.2"
  }
 },
 "nbformat": 4,
 "nbformat_minor": 0
}
