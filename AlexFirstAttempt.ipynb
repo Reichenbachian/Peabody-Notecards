{
 "cells": [
  {
   "cell_type": "code",
   "execution_count": 1,
   "metadata": {
    "collapsed": false,
    "deletable": true,
    "editable": true
   },
   "outputs": [],
   "source": [
    "import pandas as pd\n",
    "import os\n",
    "from PIL import Image, ImageDraw\n",
    "import pytesseract\n",
    "import numpy as np\n",
    "import sys\n",
    "from tqdm import tqdm\n",
    "import math"
   ]
  },
  {
   "cell_type": "code",
   "execution_count": 2,
   "metadata": {
    "collapsed": false,
    "deletable": true,
    "editable": true
   },
   "outputs": [],
   "source": [
    "df = pd.DataFrame(columns=[\"Cat Number\", \"Site Number\", \"Locality\", \"Site\", \"Name\", \"Situation\", \"AccNum\", \"fileLocation\"])"
   ]
  },
  {
   "cell_type": "code",
   "execution_count": null,
   "metadata": {
    "collapsed": false,
    "deletable": true,
    "editable": true,
    "scrolled": true
   },
   "outputs": [
    {
     "data": {
      "image/png": "[encoded data removed]",
      "text/plain": [
       "<PIL.Image._ImageCrop image mode=1 size=1311x1117 at 0x10BCECB00>"
      ]
     },
     "execution_count": 3,
     "metadata": {},
     "output_type": "execute_result"
    }
   ],
   "source": [
    "def bestLine(image, bMin,bMax, mMin, mMax, mStep=-1):\n",
    "    if mStep == -1:\n",
    "        mStep = (mMax-mMin)/20\n",
    "    maxScore = 0\n",
    "    maxB = -1\n",
    "    maxM = -1\n",
    "    for b in range(bMin, bMax, 3):\n",
    "        for m in np.arange(mMin, mMax, mStep):\n",
    "            score = 0\n",
    "            momentum = 1\n",
    "            for x in range(0, image.size[0]):\n",
    "                y = int(m*x+b)\n",
    "                if y > image.size[1] or x > image.size[0] or y < 1 or x < 1:\n",
    "                    continue\n",
    "                if image.getpixel((x, y)) == 0:\n",
    "                    score += momentum\n",
    "                    momentum += 1\n",
    "                else:\n",
    "                    momentum = 0\n",
    "                    score -= 1\n",
    "            if score > maxScore:\n",
    "                maxScore = score\n",
    "                maxB = b\n",
    "                maxM = m\n",
    "    if maxM == -1 or maxM == -1:\n",
    "        print(\"ERROR\")\n",
    "        sys.exit()\n",
    "    return maxB, maxM\n",
    "\n",
    "##I\"M SORRY FOR THE CODE REUSE!!!!!!\n",
    "\n",
    "def cropLeft(bw):\n",
    "    xSize=bw.size[0]\n",
    "    ySize=bw.size[1]\n",
    "    tol=20\n",
    "    # Crop left\n",
    "    for x in range(0, int(xSize/10)):\n",
    "        pixSum = 0\n",
    "        for y in range(0, ySize):\n",
    "#             print(bw.getpixel((x, y)))\n",
    "            if bw.getpixel((x, y)) == 0:\n",
    "                pixSum += 1\n",
    "            if pixSum > tol:\n",
    "                return bw.crop((x, 0, xSize, ySize))\n",
    "            \n",
    "def cropRight(bw):\n",
    "    xSize=bw.size[0]\n",
    "    ySize=bw.size[1]\n",
    "    tol=3\n",
    "    # Crop Right\n",
    "    for x in range(xSize-1, int(5*xSize/10), -1):\n",
    "        pixSum = 0\n",
    "        for y in range(0, ySize):\n",
    "#             print(bw.getpixel((x, y)))\n",
    "            if bw.getpixel((x, y)) == 0:\n",
    "                pixSum += 1\n",
    "            if pixSum > tol:\n",
    "                return bw.crop((0, 0, x, ySize))\n",
    "            \n",
    "def cropTop(bw):\n",
    "    xSize=bw.size[0]\n",
    "    ySize=bw.size[1]\n",
    "    tol=20\n",
    "    # Crop left\n",
    "    for y in range(0, int(ySize/10)):\n",
    "        pixSum = 0\n",
    "        for x in range(0, xSize):\n",
    "            if bw.getpixel((x, y)) == 0:\n",
    "                pixSum += 1\n",
    "            if pixSum > tol:\n",
    "                return bw.crop((0, y, xSize, ySize))\n",
    "            \n",
    "def cropBottom(bw):\n",
    "    xSize=bw.size[0]\n",
    "    ySize=bw.size[1]\n",
    "    tol=20\n",
    "    # Crop left\n",
    "    for y in range(ySize-1, int(9*ySize/10), -1):\n",
    "        pixSum = 0\n",
    "        for x in range(0, xSize):\n",
    "            if bw.getpixel((x, y)) == 0:\n",
    "                pixSum += 1\n",
    "            if pixSum > tol:\n",
    "                return bw.crop((0, 0, xSize, y))\n",
    "def rectifyImage(image):\n",
    "    gray = image.convert('L')\n",
    "    xSize=image.size[0]\n",
    "    ySize=image.size[1]\n",
    "    #Convert to black and white\n",
    "    bw = gray.point(lambda x: 0 if x<200 else 255, '1')\n",
    "    # Rotate image\n",
    "    b, m = bestLine(bw, 500, 700, -.05, .05)\n",
    "    deg = math.degrees(math.sin(abs(m*xSize)/xSize))\n",
    "    bw = bw.rotate(-deg, expand=True)\n",
    "    # Crop sides\n",
    "    bw = cropLeft(bw)\n",
    "    bw = cropRight(bw)\n",
    "    bw = cropTop(bw)\n",
    "    bw = cropBottom(bw)\n",
    "    return bw\n",
    "    \n",
    "\n",
    "rectifyImage(Image.open(\"/Users/localhost/Desktop/Projects/Working/PeabodyNotecards/peabody_files/Accession Files/12/21_1766.pdf.png\"))"
   ]
  },
  {
   "cell_type": "code",
   "execution_count": null,
   "metadata": {
    "collapsed": true,
    "deletable": true,
    "editable": true
   },
   "outputs": [],
   "source": [
    "images = []\n",
    "i = 0\n",
    "configArgs = 'config=\"-c tessedit_char_whitelist=0123456789ABCDEFGHIJKLMNOPQRSTUVWXYZabcdefghijklmnopqrstuvwxyz.:!, -psm 6\"'\n",
    "for folder in os.listdir(\"peabody_files/Accession Files/\"):\n",
    "    if '.DS_Store' in folder:\n",
    "        continue\n",
    "    Image.open(\"peabody_files/Accession Files/\"+folder+\"/\"+list(os.listdir(\"peabody_files/Accession Files/\"+folder))[1]).show()\n",
    "    site_no=input(\"Please enter site number: \")\n",
    "    for file in os.listdir(\"peabody_files/Accession Files/\"+folder):\n",
    "        if 'DS_Store' in file:\n",
    "            continue\n",
    "        print(str(''.join(['-' for x in range(10)])), '\\n')\n",
    "        fileLocation = \"peabody_files/Accession Files/\"+folder+'/'+file\n",
    "        print(\"File\", fileLocation)\n",
    "        img = Image.open(fileLocation)\n",
    "        img = rectifyImage(img)\n",
    "        xSize=img.size[0]\n",
    "        ySize=img.size[1]\n",
    "        catNumber = file[-12:-8]\n",
    "        accNumber = file[0:file.index(\"_\")]\n",
    "        localityImg = img.crop((450, 400, xSize-450, 640))\n",
    "        siteImg = img.crop((440,150, xSize-440, 250))\n",
    "        nameImg = img.crop((440,5, xSize-440, 100))\n",
    "        situationImg = img.crop((25,635, xSize-25, 735))\n",
    "\n",
    "        locality = pytesseract.image_to_string(localityImg, config=configArgs)\n",
    "        site = pytesseract.image_to_string(siteImg, config=configArgs)\n",
    "        situation = pytesseract.image_to_string(situationImg, config=configArgs)\n",
    "        name = pytesseract.image_to_string(nameImg, config=configArgs)\n",
    "        print(\"Cat Number:\", catNumber)\n",
    "        print(\"Site Number:\", site_no)\n",
    "        print(\"Locality:\", locality)\n",
    "        print(\"Site:\", site)\n",
    "        print(\"Name:\", name)\n",
    "        print(\"Situation:\", situation)\n",
    "        print(\"ACC#:\", accNumber)\n",
    "        df.loc[len(df)]=[catNumber, site_no, locality, site, name, situation, accNumber, fileLocation]"
   ]
  },
  {
   "cell_type": "code",
   "execution_count": null,
   "metadata": {
    "collapsed": true,
    "deletable": true,
    "editable": true
   },
   "outputs": [],
   "source": [
    "df.to_csv(\"test.csv\")"
   ]
  },
  {
   "cell_type": "code",
   "execution_count": null,
   "metadata": {
    "collapsed": true,
    "deletable": true,
    "editable": true
   },
   "outputs": [],
   "source": []
  }
 ],
 "metadata": {
  "kernelspec": {
   "display_name": "Python 3",
   "language": "python",
   "name": "python3"
  },
  "language_info": {
   "codemirror_mode": {
    "name": "ipython",
    "version": 3
   },
   "file_extension": ".py",
   "mimetype": "text/x-python",
   "name": "python",
   "nbconvert_exporter": "python",
   "pygments_lexer": "ipython3",
   "version": "3.5.1"
  }
 },
 "nbformat": 4,
 "nbformat_minor": 1
}
