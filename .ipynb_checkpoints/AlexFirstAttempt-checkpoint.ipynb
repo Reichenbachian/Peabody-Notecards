{
 "cells": [
  {
   "cell_type": "code",
   "execution_count": 27,
   "metadata": {
    "collapsed": false,
    "deletable": true,
    "editable": true
   },
   "outputs": [],
   "source": [
    "import pandas as pd\n",
    "import os\n",
    "from PIL import Image\n",
    "import pytesseract"
   ]
  },
  {
   "cell_type": "code",
   "execution_count": 28,
   "metadata": {
    "collapsed": false,
    "deletable": true,
    "editable": true
   },
   "outputs": [],
   "source": [
    "df = pd.read_csv(\"peabody_files/Peabody_Extended_Fields_Acc.1-12.csv\")"
   ]
  },
  {
   "cell_type": "code",
   "execution_count": 29,
   "metadata": {
    "collapsed": false,
    "deletable": true,
    "editable": true
   },
   "outputs": [
    {
     "name": "stdout",
     "output_type": "stream",
     "text": [
      "Cat. No. 1\n",
      "Cat. No. 2\n",
      "Cat. No. 3\n",
      "Cat. No. 4\n",
      "Cat. No. 5\n",
      "Cat. No. 6\n",
      "Cat. No. 7\n",
      "Cat. No. 8\n",
      "Cat. No. 9\n",
      "Cat. No. 1C\n",
      "Cat. No. l]\n",
      "Cat. No. 12\n",
      "Cat. No. 12\n",
      "Cat. No. 14\n",
      "Cat. No. 15\n",
      "Cat. No. 1(\n",
      "Cat. No. 17\n",
      "Cat. No. 18\n",
      "Cat. No. 19\n",
      "Cat. No. 3(\n",
      "Cat. No. 2]\n",
      "Cat. No. 2 2\n",
      "Cat. No. 23\n",
      "Cat. No. 24\n",
      "Cat. No. 25\n",
      "Cat. No. 26\n",
      "Cat. No. 37\n",
      "Cat. No. 28\n",
      "Cat. No. 39\n",
      "Cat. No. 30\n",
      "Cat. No. 31\n",
      "Cat. No. 32\n",
      "Cat. No. 33\n",
      "Cat. No. 34\n",
      "Cat. No. 35\n",
      "Cat. No. 36\n",
      "Cat. No. 37\n",
      "Cat. No. 38\n",
      "Cat. No. 39\n",
      "Cat. No. 40\n",
      "Cat. No. 41\n",
      "Cat. No. 42\n",
      "Cat. No. 45\n",
      "Cat. No. 44\n",
      "Cat. No. 45\n",
      "Cat. No. 46\n",
      "Cat. No. 47\n",
      "Cat. No. 48\n",
      "Cat. No. 49\n",
      "Cat. No. 50\n",
      "Cat. No. 51\n",
      "Cat. No. 52\n",
      "Cat. No. 53\n",
      "Cat. No. 54\n",
      "Cat. No. 55\n",
      "Cat. No. 56\n",
      "Cat. No. 57\n",
      "Cat. No. 58\n",
      "Cat. No. 59\n",
      "Cat. No. 60\n",
      "Cat. No. 61\n",
      "Cat. No. 68\n",
      "Cat. No. 65\n",
      "Cat. No. 64\n",
      "Cat. No. 65\n",
      "Cat. No. 66\n"
     ]
    },
    {
     "ename": "IOError",
     "evalue": "cannot identify image file 'peabody_files/Accession Files/Acc. No. 16/16_1188.pdf'",
     "output_type": "error",
     "traceback": [
      "\u001b[0;31m---------------------------------------------------------------------------\u001b[0m",
      "\u001b[0;31mIOError\u001b[0m                                   Traceback (most recent call last)",
      "\u001b[0;32m<ipython-input-29-7162de7a3a8c>\u001b[0m in \u001b[0;36m<module>\u001b[0;34m()\u001b[0m\n\u001b[1;32m      5\u001b[0m         \u001b[0;32mcontinue\u001b[0m\u001b[0;34m\u001b[0m\u001b[0m\n\u001b[1;32m      6\u001b[0m     \u001b[0;32mfor\u001b[0m \u001b[0mfile\u001b[0m \u001b[0;32min\u001b[0m \u001b[0mos\u001b[0m\u001b[0;34m.\u001b[0m\u001b[0mlistdir\u001b[0m\u001b[0;34m(\u001b[0m\u001b[0;34m\"peabody_files/Accession Files/\"\u001b[0m\u001b[0;34m+\u001b[0m\u001b[0mfolder\u001b[0m\u001b[0;34m)\u001b[0m\u001b[0;34m:\u001b[0m\u001b[0;34m\u001b[0m\u001b[0m\n\u001b[0;32m----> 7\u001b[0;31m         \u001b[0mimg\u001b[0m \u001b[0;34m=\u001b[0m \u001b[0mImage\u001b[0m\u001b[0;34m.\u001b[0m\u001b[0mopen\u001b[0m\u001b[0;34m(\u001b[0m\u001b[0;34m\"peabody_files/Accession Files/\"\u001b[0m\u001b[0;34m+\u001b[0m\u001b[0mfolder\u001b[0m\u001b[0;34m+\u001b[0m\u001b[0;34m'/'\u001b[0m\u001b[0;34m+\u001b[0m\u001b[0mfile\u001b[0m\u001b[0;34m)\u001b[0m\u001b[0;34m\u001b[0m\u001b[0m\n\u001b[0m\u001b[1;32m      8\u001b[0m \u001b[0;31m#         img.crop((0,0, 35, 150))\u001b[0m\u001b[0;34m\u001b[0m\u001b[0;34m\u001b[0m\u001b[0m\n\u001b[1;32m      9\u001b[0m         \u001b[0mcatNumber\u001b[0m \u001b[0;34m=\u001b[0m \u001b[0mimg\u001b[0m\u001b[0;34m.\u001b[0m\u001b[0mcrop\u001b[0m\u001b[0;34m(\u001b[0m\u001b[0;34m(\u001b[0m\u001b[0;36m10\u001b[0m\u001b[0;34m,\u001b[0m\u001b[0;36m10\u001b[0m\u001b[0;34m,\u001b[0m \u001b[0;36m300\u001b[0m\u001b[0;34m,\u001b[0m \u001b[0;36m100\u001b[0m\u001b[0;34m)\u001b[0m\u001b[0;34m)\u001b[0m\u001b[0;34m\u001b[0m\u001b[0m\n",
      "\u001b[0;32m/usr/local/lib/python2.7/site-packages/PIL/Image.pyc\u001b[0m in \u001b[0;36mopen\u001b[0;34m(fp, mode)\u001b[0m\n\u001b[1;32m   2347\u001b[0m \u001b[0;34m\u001b[0m\u001b[0m\n\u001b[1;32m   2348\u001b[0m     raise IOError(\"cannot identify image file %r\"\n\u001b[0;32m-> 2349\u001b[0;31m                   % (filename if filename else fp))\n\u001b[0m\u001b[1;32m   2350\u001b[0m \u001b[0;34m\u001b[0m\u001b[0m\n\u001b[1;32m   2351\u001b[0m \u001b[0;31m#\u001b[0m\u001b[0;34m\u001b[0m\u001b[0;34m\u001b[0m\u001b[0m\n",
      "\u001b[0;31mIOError\u001b[0m: cannot identify image file 'peabody_files/Accession Files/Acc. No. 16/16_1188.pdf'"
     ]
    }
   ],
   "source": [
    "images = []\n",
    "i = 0\n",
    "for folder in os.listdir(\"peabody_files/Accession Files/\"):\n",
    "    if 'DS_Store' in folder:\n",
    "        continue\n",
    "    for file in os.listdir(\"peabody_files/Accession Files/\"+folder):\n",
    "        img = Image.open(\"peabody_files/Accession Files/\"+folder+'/'+file)\n",
    "#         img.crop((0,0, 35, 150))\n",
    "        catNumber = img.crop((10,10, 300, 100))\n",
    "        print(pytesseract.image_to_string(catNumber))\n",
    "        \n"
   ]
  },
  {
   "cell_type": "code",
   "execution_count": null,
   "metadata": {
    "collapsed": true,
    "deletable": true,
    "editable": true
   },
   "outputs": [],
   "source": [
    "images = []\n",
    "i = 0\n",
    "for folder in os.listdir(\"peabody_files/Accession Files/\"):\n",
    "    if 'DS_Store' in folder:\n",
    "        continue\n",
    "    for file in os.listdir(\"peabody_files/Accession Files/\"+folder):\n",
    "        img = Image.open(\"peabody_files/Accession Files/\"+folder+'/'+file)\n",
    "#         img.crop((0,0, 35, 150))\n",
    "        catNumber = img.crop((10,10, 300, 100))\n",
    "        catNumber.show()\n",
    "        print(pytesseract.image_to_string(catNumber))\n",
    "        break"
   ]
  },
  {
   "cell_type": "code",
   "execution_count": null,
   "metadata": {
    "collapsed": true,
    "deletable": true,
    "editable": true
   },
   "outputs": [],
   "source": []
  }
 ],
 "metadata": {
  "kernelspec": {
   "display_name": "Python 2",
   "language": "python",
   "name": "python2"
  },
  "language_info": {
   "codemirror_mode": {
    "name": "ipython",
    "version": 2
   },
   "file_extension": ".py",
   "mimetype": "text/x-python",
   "name": "python",
   "nbconvert_exporter": "python",
   "pygments_lexer": "ipython2",
   "version": "2.7.13"
  }
 },
 "nbformat": 4,
 "nbformat_minor": 1
}
